{
 "cells": [
  {
   "cell_type": "markdown",
   "id": "c5b96f5f",
   "metadata": {},
   "source": [
    "# Data Manipulation"
   ]
  },
  {
   "cell_type": "code",
   "execution_count": 3,
   "id": "e3a975fe",
   "metadata": {},
   "outputs": [
    {
     "data": {
      "text/html": [
       "<div>\n",
       "<style scoped>\n",
       "    .dataframe tbody tr th:only-of-type {\n",
       "        vertical-align: middle;\n",
       "    }\n",
       "\n",
       "    .dataframe tbody tr th {\n",
       "        vertical-align: top;\n",
       "    }\n",
       "\n",
       "    .dataframe thead th {\n",
       "        text-align: right;\n",
       "    }\n",
       "</style>\n",
       "<table border=\"1\" class=\"dataframe\">\n",
       "  <thead>\n",
       "    <tr style=\"text-align: right;\">\n",
       "      <th></th>\n",
       "      <th>0</th>\n",
       "      <th>1</th>\n",
       "      <th>2</th>\n",
       "      <th>3</th>\n",
       "      <th>4</th>\n",
       "      <th>5</th>\n",
       "      <th>6</th>\n",
       "      <th>7</th>\n",
       "      <th>8</th>\n",
       "      <th>9</th>\n",
       "      <th>10</th>\n",
       "    </tr>\n",
       "  </thead>\n",
       "  <tbody>\n",
       "    <tr>\n",
       "      <th>0</th>\n",
       "      <td>28.7967</td>\n",
       "      <td>16.0021</td>\n",
       "      <td>2.6449</td>\n",
       "      <td>0.3918</td>\n",
       "      <td>0.1982</td>\n",
       "      <td>27.7004</td>\n",
       "      <td>22.0110</td>\n",
       "      <td>-8.2027</td>\n",
       "      <td>40.0920</td>\n",
       "      <td>81.8828</td>\n",
       "      <td>g</td>\n",
       "    </tr>\n",
       "    <tr>\n",
       "      <th>1</th>\n",
       "      <td>31.6036</td>\n",
       "      <td>11.7235</td>\n",
       "      <td>2.5185</td>\n",
       "      <td>0.5303</td>\n",
       "      <td>0.3773</td>\n",
       "      <td>26.2722</td>\n",
       "      <td>23.8238</td>\n",
       "      <td>-9.9574</td>\n",
       "      <td>6.3609</td>\n",
       "      <td>205.2610</td>\n",
       "      <td>g</td>\n",
       "    </tr>\n",
       "    <tr>\n",
       "      <th>2</th>\n",
       "      <td>162.0520</td>\n",
       "      <td>136.0310</td>\n",
       "      <td>4.0612</td>\n",
       "      <td>0.0374</td>\n",
       "      <td>0.0187</td>\n",
       "      <td>116.7410</td>\n",
       "      <td>-64.8580</td>\n",
       "      <td>-45.2160</td>\n",
       "      <td>76.9600</td>\n",
       "      <td>256.7880</td>\n",
       "      <td>g</td>\n",
       "    </tr>\n",
       "    <tr>\n",
       "      <th>3</th>\n",
       "      <td>23.8172</td>\n",
       "      <td>9.5728</td>\n",
       "      <td>2.3385</td>\n",
       "      <td>0.6147</td>\n",
       "      <td>0.3922</td>\n",
       "      <td>27.2107</td>\n",
       "      <td>-6.4633</td>\n",
       "      <td>-7.1513</td>\n",
       "      <td>10.4490</td>\n",
       "      <td>116.7370</td>\n",
       "      <td>g</td>\n",
       "    </tr>\n",
       "    <tr>\n",
       "      <th>4</th>\n",
       "      <td>75.1362</td>\n",
       "      <td>30.9205</td>\n",
       "      <td>3.1611</td>\n",
       "      <td>0.3168</td>\n",
       "      <td>0.1832</td>\n",
       "      <td>-5.5277</td>\n",
       "      <td>28.5525</td>\n",
       "      <td>21.8393</td>\n",
       "      <td>4.6480</td>\n",
       "      <td>356.4620</td>\n",
       "      <td>g</td>\n",
       "    </tr>\n",
       "  </tbody>\n",
       "</table>\n",
       "</div>"
      ],
      "text/plain": [
       "         0         1       2       3       4         5        6        7   \\\n",
       "0   28.7967   16.0021  2.6449  0.3918  0.1982   27.7004  22.0110  -8.2027   \n",
       "1   31.6036   11.7235  2.5185  0.5303  0.3773   26.2722  23.8238  -9.9574   \n",
       "2  162.0520  136.0310  4.0612  0.0374  0.0187  116.7410 -64.8580 -45.2160   \n",
       "3   23.8172    9.5728  2.3385  0.6147  0.3922   27.2107  -6.4633  -7.1513   \n",
       "4   75.1362   30.9205  3.1611  0.3168  0.1832   -5.5277  28.5525  21.8393   \n",
       "\n",
       "        8         9  10  \n",
       "0  40.0920   81.8828  g  \n",
       "1   6.3609  205.2610  g  \n",
       "2  76.9600  256.7880  g  \n",
       "3  10.4490  116.7370  g  \n",
       "4   4.6480  356.4620  g  "
      ]
     },
     "metadata": {},
     "output_type": "display_data"
    },
    {
     "data": {
      "text/plain": [
       "fLength      float64\n",
       "fWidth       float64\n",
       "fSize        float64\n",
       "fConc        float64\n",
       "fConc1       float64\n",
       "fAsym        float64\n",
       "fM3Long      float64\n",
       "fM3Trans     float64\n",
       "fAlpha       float64\n",
       "fDist        float64\n",
       "class       category\n",
       "dtype: object"
      ]
     },
     "metadata": {},
     "output_type": "display_data"
    },
    {
     "data": {
      "text/plain": [
       "array([1, 1, 1, ..., 0, 0, 0], dtype=uint8)"
      ]
     },
     "metadata": {},
     "output_type": "display_data"
    }
   ],
   "source": [
    "import pandas as pd\n",
    "import numpy as np\n",
    "from sklearn.model_selection import train_test_split\n",
    "from sklearn.preprocessing import StandardScaler\n",
    "\n",
    "magic = pd.read_csv('magic04.data', sep = ',', header = None)\n",
    "display(magic.head())\n",
    "\n",
    "magic_names = pd.read_csv('magic04.names', sep = \"\\t\")\n",
    "\n",
    "magic.columns = ['fLength', 'fWidth', 'fSize', 'fConc', 'fConc1', 'fAsym', 'fM3Long', 'fM3Trans', 'fAlpha', 'fDist', 'class']\n",
    "\n",
    "#pd.get_dummies(magic['class']); can also use label encoding to create only 1 and 0\n",
    "magic['class'] = magic['class'].astype('category')\n",
    "display(magic.dtypes)\n",
    "\n",
    "#Splitting features and response variable\n",
    "X = magic.drop(['class'], axis = 1)\n",
    "Y = magic['class']\n",
    "\n",
    "#Making Y binary\n",
    "Y_dummy = pd.get_dummies(Y)\n",
    "Y = pd.concat((Y_dummy, Y), axis = 1)\n",
    "Y = Y.drop(['class'], axis = 1)\n",
    "Y = Y.drop(['h'], axis = 1)\n",
    "Y = np.asarray(Y)\n",
    "Y = Y.reshape((len(Y), ))\n",
    "display(Y)\n",
    "\n",
    "#Scaling X\n",
    "scaler = StandardScaler()\n",
    "scaler.fit(X)\n",
    "X = scaler.transform(X)\n",
    "\n",
    "XTrain, XTest, YTrain, YTest = train_test_split(X, Y, test_size = .25, random_state = 10)"
   ]
  },
  {
   "cell_type": "markdown",
   "id": "7009f8da",
   "metadata": {},
   "source": [
    "# Linear Regression"
   ]
  },
  {
   "cell_type": "code",
   "execution_count": 4,
   "id": "f9cdd6b8",
   "metadata": {},
   "outputs": [
    {
     "name": "stdout",
     "output_type": "stream",
     "text": [
      "[1 1 0 ... 0 1 1]\n"
     ]
    }
   ],
   "source": [
    "from sklearn.linear_model import LogisticRegression\n",
    "from sklearn.discriminant_analysis import LinearDiscriminantAnalysis\n",
    "from sklearn.model_selection import KFold\n",
    "from sklearn import svm\n",
    "from sklearn.model_selection import GridSearchCV\n",
    "import sklearn.model_selection as ms\n",
    "from sklearn.neighbors import KNeighborsClassifier\n",
    "from sklearn import metrics\n",
    "\n",
    "#Logistic Regression\n",
    "logistic_model = LogisticRegression(solver = 'liblinear', random_state = 10)\n",
    "logistic_model.fit(XTrain, YTrain)\n",
    "\n",
    "logistic_predict = logistic_model.predict(XTest)\n",
    "print(logistic_predict)"
   ]
  },
  {
   "cell_type": "markdown",
   "id": "9354df55",
   "metadata": {},
   "source": [
    "### LDA"
   ]
  },
  {
   "cell_type": "code",
   "execution_count": 7,
   "id": "a11d1eb2",
   "metadata": {},
   "outputs": [
    {
     "name": "stdout",
     "output_type": "stream",
     "text": [
      "{'n_components': 1, 'solver': 'lsqr'}\n"
     ]
    },
    {
     "name": "stderr",
     "output_type": "stream",
     "text": [
      "C:\\Users\\Camer\\Anaconda\\lib\\site-packages\\sklearn\\model_selection\\_validation.py:378: FitFailedWarning: \n",
      "6 fits failed out of a total of 12.\n",
      "The score on these train-test partitions for these parameters will be set to nan.\n",
      "If these failures are not expected, you can try to debug them by setting error_score='raise'.\n",
      "\n",
      "Below are more details about the failures:\n",
      "--------------------------------------------------------------------------------\n",
      "6 fits failed with the following error:\n",
      "Traceback (most recent call last):\n",
      "  File \"C:\\Users\\Camer\\Anaconda\\lib\\site-packages\\sklearn\\model_selection\\_validation.py\", line 686, in _fit_and_score\n",
      "    estimator.fit(X_train, y_train, **fit_params)\n",
      "  File \"C:\\Users\\Camer\\Anaconda\\lib\\site-packages\\sklearn\\discriminant_analysis.py\", line 582, in fit\n",
      "    raise ValueError(\n",
      "ValueError: n_components cannot be larger than min(n_features, n_classes - 1).\n",
      "\n",
      "  warnings.warn(some_fits_failed_message, FitFailedWarning)\n",
      "C:\\Users\\Camer\\Anaconda\\lib\\site-packages\\sklearn\\model_selection\\_search.py:953: UserWarning: One or more of the test scores are non-finite: [0.78752191 0.78752191        nan        nan]\n",
      "  warnings.warn(\n"
     ]
    }
   ],
   "source": [
    "lda = LinearDiscriminantAnalysis()\n",
    "grid_lda = [{'solver': ('lsqr', 'eigen'), 'n_components': (1,10)}]\n",
    "\n",
    "lda_model = GridSearchCV(estimator = lda, param_grid = grid_lda, scoring = 'accuracy', cv = ms.KFold(n_splits = 3))\n",
    "\n",
    "lda_model.fit(XTrain, YTrain)\n",
    "\n",
    "print(lda_model.best_params_)\n",
    "\n",
    "lda_model_best = LinearDiscriminantAnalysis(n_components = 1, solver = 'lsqr')\n",
    "lda_model_best.fit(XTrain, YTrain)\n",
    "\n",
    "lda_prediction = lda_model_best.predict(XTest)"
   ]
  },
  {
   "cell_type": "markdown",
   "id": "3b01760e",
   "metadata": {},
   "source": [
    "### KNN"
   ]
  },
  {
   "cell_type": "code",
   "execution_count": 6,
   "id": "9b9ba8e2",
   "metadata": {},
   "outputs": [
    {
     "name": "stdout",
     "output_type": "stream",
     "text": [
      "{'n_neighbors': 13}\n"
     ]
    }
   ],
   "source": [
    "knn = KNeighborsClassifier()\n",
    "\n",
    "neighbors = np.arange(1, 21, step = 2)\n",
    "grid_knn = [{'n_neighbors': neighbors}]\n",
    "\n",
    "knn_model = GridSearchCV(estimator = knn, param_grid = grid_knn, cv = ms.KFold(n_splits = 5))\n",
    "\n",
    "knn_model.fit(XTrain, YTrain)\n",
    "print(knn_model.best_params_)\n",
    "\n",
    "knn_best_model = KNeighborsClassifier(n_neighbors = 13)\n",
    "knn_best_model.fit(XTrain, YTrain)\n",
    "\n",
    "knn_predict = knn_best_model.predict(XTest)"
   ]
  },
  {
   "cell_type": "markdown",
   "id": "bfa31762",
   "metadata": {},
   "source": [
    "### Linear SVM"
   ]
  },
  {
   "cell_type": "code",
   "execution_count": 5,
   "id": "f66651d8",
   "metadata": {},
   "outputs": [
    {
     "name": "stdout",
     "output_type": "stream",
     "text": [
      "{'C': 10}\n"
     ]
    }
   ],
   "source": [
    "svm_ = svm.SVC()\n",
    "\n",
    "grid_lSVM = [{'C': [.01, .1, 1, 10]}]\n",
    "svm_model = GridSearchCV(estimator = svm_, param_grid = grid_lSVM, cv = ms.KFold(n_splits = 5))\n",
    "\n",
    "svm_model.fit(XTrain, YTrain)\n",
    "print(svm_model.best_params_)\n",
    "\n",
    "svm_model_best = svm.SVC(C = 10)\n",
    "svm_model_best.fit(XTrain, YTrain)\n",
    "svm_pred = svm_model.predict(XTest)"
   ]
  },
  {
   "cell_type": "markdown",
   "id": "5d3483ae",
   "metadata": {},
   "source": [
    "### Gaussian (Radial) SVM"
   ]
  },
  {
   "cell_type": "code",
   "execution_count": 12,
   "id": "bbc222f0",
   "metadata": {},
   "outputs": [
    {
     "name": "stdout",
     "output_type": "stream",
     "text": [
      "0.86267087276551\n"
     ]
    }
   ],
   "source": [
    "svm_gauss = svm.SVC(C = 10, kernel = 'rbf', gamma = .1)\n",
    "svm_gauss.fit(XTrain, YTrain)\n",
    "\n",
    "svm_gauss_pred = svm_gauss.predict(XTest)\n",
    "print(np.sum(svm_gauss_pred == YTest) / len(YTest))\n",
    "#Manually found that best accuracy occurs at gamma = .1"
   ]
  },
  {
   "cell_type": "markdown",
   "id": "1eb3a277",
   "metadata": {},
   "source": [
    "# Testing accuracy"
   ]
  },
  {
   "cell_type": "code",
   "execution_count": 17,
   "id": "9ef8a492",
   "metadata": {},
   "outputs": [
    {
     "data": {
      "text/plain": [
       "array([[-1.29081564, -0.07279753, -0.28011442,  0.05083055, -0.58076355,\n",
       "        -0.00588448,  0.38731288,  0.02066414, -1.21676634, -0.04806767]])"
      ]
     },
     "metadata": {},
     "output_type": "display_data"
    },
    {
     "name": "stdout",
     "output_type": "stream",
     "text": [
      "[-0.57722602 -0.33680419 -0.38113037  0.06275933 -0.14892271  0.54104236\n",
      "  0.22481824 -0.40584194  0.47681587 -1.49786555]\n"
     ]
    },
    {
     "data": {
      "image/png": "[encoded data removed]",
      "text/plain": [
       "<Figure size 432x288 with 1 Axes>"
      ]
     },
     "metadata": {
      "needs_background": "light"
     },
     "output_type": "display_data"
    }
   ],
   "source": [
    "from sklearn.metrics import roc_curve, auc\n",
    "import matplotlib.pyplot as plt\n",
    "\n",
    "fpr_log, tpr_log, _ = roc_curve(YTest, logistic_predict)\n",
    "auc_log = auc(fpr_log, tpr_log)\n",
    "\n",
    "fpr_lda, tpr_lda, _ = roc_curve(YTest, lda_prediction)\n",
    "auc_lda = auc(fpr_lda, tpr_lda)\n",
    "\n",
    "fpr_knn, tpr_knn, _ = roc_curve(YTest, knn_predict)\n",
    "auc_knn = auc(fpr_knn, tpr_knn)\n",
    "\n",
    "fpr_lSVM, tpr_lSVM, _ = roc_curve(YTest, svm_pred)\n",
    "auc_lSVM = auc(fpr_lSVM, tpr_lSVM)\n",
    "\n",
    "fpr_gSVM, tpr_gSVM, _ = roc_curve(YTest, svm_gauss_pred)\n",
    "auc_gSVM = auc(fpr_gSVM, tpr_gSVM)\n",
    "\n",
    "plt.plot(fpr_log, tpr_log, label = 'Log AUC: {0:0.2f}'.format(auc_log))\n",
    "plt.plot(fpr_lda, tpr_lda, label = 'LDA AUC: {0:0.2f}'.format(auc_lda))\n",
    "plt.plot(fpr_knn, tpr_knn, label = 'KNN AUC: {0:0.2f}'.format(auc_knn))\n",
    "plt.plot(fpr_lSVM, tpr_lSVM, label = 'lSVM AUC: {0:0.2f}'.format(auc_lSVM))\n",
    "plt.plot(fpr_gSVM, tpr_gSVM, label = 'gSVM AUC: {0:0.2f}'.format(auc_gSVM))\n",
    "\n",
    "plt.xlabel('False Positive Rate')\n",
    "plt.ylabel('True Positive Rate')\n",
    "plt.title('ROC for different SVMs')\n",
    "plt.legend(loc = 'lower right')\n",
    "\n",
    "display(logistic_model.coef_)\n",
    "#Based on the coefficients of the logistic regression model, it appears that fLength is the most important predictor\n",
    "\n",
    "#Support Vector Machine appears to be the most accurate for this data"
   ]
  }
 ],
 "metadata": {
  "kernelspec": {
   "display_name": "Python 3 (ipykernel)",
   "language": "python",
   "name": "python3"
  },
  "language_info": {
   "codemirror_mode": {
    "name": "ipython",
    "version": 3
   },
   "file_extension": ".py",
   "mimetype": "text/x-python",
   "name": "python",
   "nbconvert_exporter": "python",
   "pygments_lexer": "ipython3",
   "version": "3.9.12"
  }
 },
 "nbformat": 4,
 "nbformat_minor": 5
}
